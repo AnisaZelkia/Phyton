{
  "cells": [
    {
      "cell_type": "markdown",
      "metadata": {
        "id": "view-in-github",
        "colab_type": "text"
      },
      "source": [
        "<a href=\"https://colab.research.google.com/github/AnisaZelkia/Phyton/blob/master/Latihan_Modul_2.ipynb\" target=\"_parent\"><img src=\"https://colab.research.google.com/assets/colab-badge.svg\" alt=\"Open In Colab\"/></a>"
      ]
    },
    {
      "cell_type": "code",
      "source": [
        "e=input(\"name :\")\n",
        "all_word = e.split()\n",
        "first_word = all_word[0]\n",
        "print(\"First word of my name is: \",first_word)\n"
      ],
      "metadata": {
        "colab": {
          "base_uri": "https://localhost:8080/"
        },
        "id": "DqOpk5M4J-DO",
        "outputId": "e1d11da9-3d07-48e9-e5f7-14858d61686f"
      },
      "execution_count": null,
      "outputs": [
        {
          "output_type": "stream",
          "name": "stdout",
          "text": [
            "name :Mahatma Favian\n",
            "First word of my name is:  Mahatma\n"
          ]
        }
      ]
    },
    {
      "cell_type": "code",
      "source": [
        "f=input(\"first letter of my name is :\")\n",
        "print(\"first letter of my name is :\", f[0])"
      ],
      "metadata": {
        "colab": {
          "base_uri": "https://localhost:8080/"
        },
        "id": "NCzBjoNXK35x",
        "outputId": "ef1f29a1-d6dc-46d1-ea3d-c4d628fb05e3"
      },
      "execution_count": null,
      "outputs": [
        {
          "output_type": "stream",
          "name": "stdout",
          "text": [
            "first letter of my name is :eve\n",
            "first letter of my name is : e\n"
          ]
        }
      ]
    },
    {
      "cell_type": "code",
      "source": [
        "k,l,m=1,2,3\n",
        "print(k)\n",
        "print(l)\n",
        "print(m)"
      ],
      "metadata": {
        "colab": {
          "base_uri": "https://localhost:8080/"
        },
        "id": "6xIknwfHdblm",
        "outputId": "aaaf155c-8ccb-4ab9-fc47-3958b176722f"
      },
      "execution_count": null,
      "outputs": [
        {
          "output_type": "stream",
          "name": "stdout",
          "text": [
            "1\n",
            "2\n",
            "3\n"
          ]
        }
      ]
    },
    {
      "cell_type": "code",
      "source": [
        "k=input(\"tinggi body (cm): \")"
      ],
      "metadata": {
        "colab": {
          "base_uri": "https://localhost:8080/"
        },
        "id": "zeIa1P4RfYBB",
        "outputId": "8ff3ce27-78ec-4512-d773-64a0fea54ff2"
      },
      "execution_count": null,
      "outputs": [
        {
          "name": "stdout",
          "output_type": "stream",
          "text": [
            "tinggi body (cm): 100\n"
          ]
        }
      ]
    },
    {
      "cell_type": "code",
      "source": [
        "l=input('tinggi baden (cm):')"
      ],
      "metadata": {
        "colab": {
          "base_uri": "https://localhost:8080/"
        },
        "id": "iRDsoON0Hy4b",
        "outputId": "41f24775-33cd-4819-88da-72ef3cd1bf01"
      },
      "execution_count": null,
      "outputs": [
        {
          "name": "stdout",
          "output_type": "stream",
          "text": [
            "tinggi baden (cm):78\n"
          ]
        }
      ]
    },
    {
      "cell_type": "code",
      "source": [
        "penjeng=int(input(\"penjeng: (cm)\"))\n",
        "leber=int(input(\"leber: (cm)\"))\n",
        "e=penjeng*leber\n",
        "print(\"jadi luasnya adalah\",e)"
      ],
      "metadata": {
        "colab": {
          "base_uri": "https://localhost:8080/"
        },
        "id": "lqiIGEvOJOGL",
        "outputId": "86b07c98-2462-4613-9acd-bbfc77106057"
      },
      "execution_count": null,
      "outputs": [
        {
          "output_type": "stream",
          "name": "stdout",
          "text": [
            "penjeng: (cm)5\n",
            "leber: (cm)6\n",
            "jadi luasnya adalah 30\n"
          ]
        }
      ]
    },
    {
      "cell_type": "code",
      "source": [],
      "metadata": {
        "id": "NBYxmPjUHv-_"
      },
      "execution_count": null,
      "outputs": []
    },
    {
      "cell_type": "code",
      "source": [
        "print(k)"
      ],
      "metadata": {
        "id": "pLz1HGxmgBN_",
        "outputId": "8a76d9b1-4a56-4479-bc1e-933028a4146f",
        "colab": {
          "base_uri": "https://localhost:8080/"
        }
      },
      "execution_count": null,
      "outputs": [
        {
          "output_type": "stream",
          "name": "stdout",
          "text": [
            "100\n"
          ]
        }
      ]
    },
    {
      "cell_type": "code",
      "execution_count": null,
      "metadata": {
        "colab": {
          "base_uri": "https://localhost:8080/"
        },
        "id": "xxUDklc2KDGr",
        "outputId": "aec7d7b7-fa09-4c74-9058-c98b17f9a037"
      },
      "outputs": [
        {
          "output_type": "stream",
          "name": "stdout",
          "text": [
            "12\n",
            "8\n"
          ]
        }
      ],
      "source": [
        "#@title\n",
        "\n",
        "a=12\n",
        "b=8\n",
        "print(a)\n",
        "print(b)"
      ]
    },
    {
      "cell_type": "code",
      "source": [
        "#contoh perhitungan luas segitiga\n",
        "\n",
        "alas=int(input(\"alas (cm):\"))\n",
        "tinggi=int(input(\"tinggi (cm):\"))\n",
        "Luas=alas*tinggi/2\n",
        "print(\"Total luas segitiga (cm) adalah\", Luas)"
      ],
      "metadata": {
        "colab": {
          "base_uri": "https://localhost:8080/"
        },
        "id": "2Q7YSRWqDRaI",
        "outputId": "45f7f8c7-8087-4978-95fd-2603ed277762"
      },
      "execution_count": null,
      "outputs": [
        {
          "output_type": "stream",
          "name": "stdout",
          "text": [
            "alas (cm):9\n",
            "tinggi (cm):9\n",
            "Total luas segitiga (cm) adalah 40.5\n"
          ]
        }
      ]
    },
    {
      "cell_type": "code",
      "source": [
        "xPD= \"//td[contains(., '\"\n",
        "xPB= \"')]//following-sibling::td//a\"\n",
        "wahana= \"RS ISLAM SITI HAJAR\"\n",
        "get_wahana = xPD + wahana + xPB\n",
        "print(get_wahana)"
      ],
      "metadata": {
        "colab": {
          "base_uri": "https://localhost:8080/"
        },
        "id": "JcUzpbHBRpVr",
        "outputId": "d07881e3-502d-4f18-f008-e2c12d1afd0f"
      },
      "execution_count": null,
      "outputs": [
        {
          "output_type": "stream",
          "name": "stdout",
          "text": [
            "//td[contains(., 'RS ISLAM SITI HAJAR')]//following-sibling::td//a\n"
          ]
        }
      ]
    },
    {
      "cell_type": "code",
      "execution_count": null,
      "metadata": {
        "colab": {
          "base_uri": "https://localhost:8080/"
        },
        "id": "KQv-C-JJJ9FQ",
        "outputId": "782e0965-b45d-4e8f-81ca-c50b81bcdde2"
      },
      "outputs": [
        {
          "name": "stdout",
          "output_type": "stream",
          "text": [
            "Masukkan deret bilangan (pisahkan dengan koma): 1, 2, 3, 4, 5\n"
          ]
        }
      ],
      "source": [
        "inputan = input(\"Masukkan deret bilangan (pisahkan dengan koma): \")\n",
        "data = []"
      ]
    },
    {
      "cell_type": "code",
      "execution_count": null,
      "metadata": {
        "id": "sD6KdIWn2GZc",
        "colab": {
          "base_uri": "https://localhost:8080/"
        },
        "outputId": "b57575dd-b8e6-40e2-9a80-93cb603c5f9e"
      },
      "outputs": [
        {
          "output_type": "stream",
          "name": "stdout",
          "text": [
            "Jika kelereng Aldi adalah = 25\n",
            "Maka Kelereng Budi menjadi = 10\n",
            "Maka Kelereng Anto menjadi = 70\n",
            "Maka Kelereng Agung menjadi = 100\n"
          ]
        }
      ],
      "source": [
        "kelerengAldi = int(input(\"Jika kelereng Aldi adalah = \"))\n",
        "kelerengBudi = (kelerengAldi - 15)\n",
        "kelerengAnto = 2*(kelerengAldi + kelerengBudi)\n",
        "kelerengAgung = (kelerengAldi + kelerengBudi + kelerengAnto) - 5\n",
        "\n",
        "print(\"Maka Kelereng Budi menjadi =\", kelerengBudi)\n",
        "print(\"Maka Kelereng Anto menjadi =\", kelerengAnto)\n",
        "print(\"Maka Kelereng Agung menjadi =\", kelerengAgung)"
      ]
    },
    {
      "cell_type": "code",
      "execution_count": null,
      "metadata": {
        "colab": {
          "base_uri": "https://localhost:8080/"
        },
        "id": "DCKFZw9WU6Ck",
        "outputId": "3b930bbc-9e89-43c8-dccc-6c37e5e4cde8"
      },
      "outputs": [
        {
          "output_type": "stream",
          "name": "stdout",
          "text": [
            "Masukkan deret bilangan (pisahkan dengan koma): 2, 3, 4\n",
            "Data -> [2, 3, 4]\n",
            "Mean -> 3.0\n"
          ]
        }
      ],
      "source": [
        "def Average(data):\n",
        "  return sum(data) / len(data)\n",
        "\n",
        "inputan = input(\"Masukkan deret bilangan (pisahkan dengan koma): \")\n",
        "data = []\n",
        "\n",
        "# konversi inputan ke dalam list yg berisi integer\n",
        "for bilangan in inputan.split(','):\n",
        "    data.append(int(bilangan))\n",
        "\n",
        "rerata = Average(data)\n",
        "print(f'Data -> {data}')\n",
        "print(f'Mean -> {rerata}')"
      ]
    },
    {
      "cell_type": "code",
      "execution_count": null,
      "metadata": {
        "id": "pe0JUr5NU8yo"
      },
      "outputs": [],
      "source": []
    },
    {
      "cell_type": "code",
      "execution_count": null,
      "metadata": {
        "id": "2p1HubE1nND0"
      },
      "outputs": [],
      "source": []
    },
    {
      "cell_type": "code",
      "execution_count": null,
      "metadata": {
        "id": "d7G_wetB3L62"
      },
      "outputs": [],
      "source": [
        "nama=input(\"nama(marga) : \")\n",
        "print(nama)"
      ]
    },
    {
      "cell_type": "code",
      "execution_count": null,
      "metadata": {
        "id": "nK2nuoXZ-NIs",
        "colab": {
          "base_uri": "https://localhost:8080/"
        },
        "outputId": "81929a6d-cd3b-4f2c-bf85-9a8d6d9c6af6"
      },
      "outputs": [
        {
          "output_type": "stream",
          "name": "stdout",
          "text": [
            "Panjang (cm):3\n",
            "Lebar(cm) :4\n",
            "Tinggi (cm) :5\n",
            "Jawab 60.0\n"
          ]
        }
      ],
      "source": [
        "Panjang=float(input(\"Panjang (cm):\"))\n",
        "Lebar=float(input(\"Lebar(cm) :\"))\n",
        "Tinggi=float(input(\"Tinggi (cm) :\"))\n",
        "Jawab = float(Panjang*Lebar*Tinggi)\n",
        "print (\"Jawab\", Jawab)"
      ]
    },
    {
      "cell_type": "code",
      "execution_count": null,
      "metadata": {
        "id": "C3uPhpvG-JUO"
      },
      "outputs": [],
      "source": []
    },
    {
      "cell_type": "code",
      "execution_count": null,
      "metadata": {
        "id": "kNzcBm8t44IM",
        "outputId": "17450ee8-2948-4dcb-a268-98693f56ef26",
        "colab": {
          "base_uri": "https://localhost:8080/"
        }
      },
      "outputs": [
        {
          "output_type": "stream",
          "name": "stdout",
          "text": [
            "nama depan:BAYU\n",
            "nama tengah:SANDY\n",
            "nama belakang:BUAYA\n",
            "B l S ve B o U\n"
          ]
        }
      ],
      "source": [
        "#Bucin Lagi\n",
        "\n",
        "a=input(\"nama depan:\")\n",
        "b=input(\"nama tengah:\")\n",
        "c=input(\"nama belakang:\")\n",
        "print(a[0], \"l\", b[0], \"ve\", c[0], \"o\", c[1])\n"
      ]
    },
    {
      "cell_type": "code",
      "execution_count": null,
      "metadata": {
        "id": "YW3ELJvu69uE"
      },
      "outputs": [],
      "source": [
        "#Menghitung Luas Segi Tiga"
      ]
    },
    {
      "cell_type": "code",
      "execution_count": null,
      "metadata": {
        "id": "eF-Ir_bSK9ck"
      },
      "outputs": [],
      "source": [
        "#menghitung luas persegi\n",
        "s=int(input(\"sisi persegi adalah:\"))\n",
        "l=s**2\n",
        "print(l)"
      ]
    },
    {
      "cell_type": "markdown",
      "metadata": {
        "id": "aRnIRxLEMNmj"
      },
      "source": [
        "Harus ditambah int/integer karena menggunakan variabel angka"
      ]
    },
    {
      "cell_type": "code",
      "execution_count": null,
      "metadata": {
        "id": "WGi4eeetMJJY",
        "colab": {
          "base_uri": "https://localhost:8080/"
        },
        "outputId": "79e1d7e4-9b71-4e3c-c322-eaf17d3706e6"
      },
      "outputs": [
        {
          "output_type": "stream",
          "name": "stdout",
          "text": [
            "kamu\n"
          ]
        }
      ],
      "source": [
        "a=3\n",
        "a='kamu'\n",
        "print((a))"
      ]
    },
    {
      "cell_type": "markdown",
      "metadata": {
        "id": "AJqK_2ZmMhyW"
      },
      "source": [
        "print(a) akan menampilkan hasil program dari input yang terakhir diberikan"
      ]
    },
    {
      "cell_type": "code",
      "execution_count": null,
      "metadata": {
        "id": "VT7Jpb63MeXO",
        "colab": {
          "base_uri": "https://localhost:8080/"
        },
        "outputId": "cf8102c0-2428-4f81-aea1-edf09d5bfbc5"
      },
      "outputs": [
        {
          "output_type": "stream",
          "name": "stdout",
          "text": [
            "1\n"
          ]
        }
      ],
      "source": [
        "a,b,c = 1,2,3\n",
        "print(a)"
      ]
    },
    {
      "cell_type": "code",
      "execution_count": null,
      "metadata": {
        "id": "rExOWF_xVbbt"
      },
      "outputs": [],
      "source": []
    },
    {
      "cell_type": "code",
      "execution_count": null,
      "metadata": {
        "id": "ENeGRjxxNOFY",
        "colab": {
          "base_uri": "https://localhost:8080/"
        },
        "outputId": "ad468feb-8e14-495a-bf61-fc8490dee905"
      },
      "outputs": [
        {
          "output_type": "stream",
          "name": "stdout",
          "text": [
            "huruf ke-2 awal dari nama: gg\n",
            "huruf ke-2 nama gg yaitu:  g\n"
          ]
        }
      ],
      "source": [
        "#penggunaan fungsi char\n",
        "a=input(\"huruf ke-2 awal dari nama: \") ; print(\"huruf ke-2 nama\",a,(\"yaitu: \"), a[1])"
      ]
    },
    {
      "cell_type": "markdown",
      "metadata": {
        "id": "uc9xjuSBOfdJ"
      },
      "source": [
        "indeksi jika diisi [1] berarti ke-2 dari awal char"
      ]
    },
    {
      "cell_type": "code",
      "execution_count": null,
      "metadata": {
        "id": "IetalXBuulqW",
        "colab": {
          "base_uri": "https://localhost:8080/"
        },
        "outputId": "d4068b3f-5642-4c30-f567-7e7a3571f6fb"
      },
      "outputs": [
        {
          "output_type": "stream",
          "name": "stdout",
          "text": [
            "4\n"
          ]
        }
      ],
      "source": [
        "a=print(2*2)"
      ]
    },
    {
      "cell_type": "markdown",
      "metadata": {
        "id": "e4KFVb5uJSdK"
      },
      "source": []
    },
    {
      "cell_type": "code",
      "execution_count": null,
      "metadata": {
        "id": "plQknTimIvz9"
      },
      "outputs": [],
      "source": [
        "a=10\n",
        "print(a)\n",
        "b=7\n",
        "print(b)"
      ]
    },
    {
      "cell_type": "markdown",
      "metadata": {
        "id": "VcyC3Nn7OMDk"
      },
      "source": []
    },
    {
      "cell_type": "code",
      "execution_count": null,
      "metadata": {
        "id": "9mLlRKtFLNaG"
      },
      "outputs": [],
      "source": [
        "a, b, c=7,8,9\n",
        "print(a)\n",
        "print(b)\n",
        "print(c)\n",
        "d=54\n",
        "print(d)"
      ]
    },
    {
      "cell_type": "code",
      "execution_count": null,
      "metadata": {
        "id": "CXRuRAlXmKpB"
      },
      "outputs": [],
      "source": [
        "a=input(\"Tinggi badan (cm) : \")\n",
        "print (a)"
      ]
    },
    {
      "cell_type": "code",
      "execution_count": null,
      "metadata": {
        "id": "MbMT910NcjrY"
      },
      "outputs": [],
      "source": [
        "b=input(\"Berat badan (kg): \")\n",
        "print (b)"
      ]
    },
    {
      "cell_type": "code",
      "execution_count": null,
      "metadata": {
        "id": "k7f954tvHmNx"
      },
      "outputs": [],
      "source": [
        "#menghitung luas persegi panjang\n",
        "panjang=int(input(\"panjang(cm):\"))\n",
        "lebar=int(input(\"lebar(cm):\"))\n",
        "luas=panjang*lebar\n",
        "print(\"luas (cm) =\", luas)\n"
      ]
    },
    {
      "cell_type": "code",
      "execution_count": null,
      "metadata": {
        "id": "5-W5nlBwNtRZ"
      },
      "outputs": [],
      "source": [
        "#Buat program menghitung luas persegi panjang\n",
        "\n",
        "p=int(input(\"Panjang (cm):\"))\n",
        "l=int(input(\"Lebar (cm):\"))\n",
        "a=p*l\n",
        "print(\"Luas persegi panjang (cm) adalah\", a)"
      ]
    },
    {
      "cell_type": "code",
      "execution_count": null,
      "metadata": {
        "id": "HbVr0fu5UlaP"
      },
      "outputs": [],
      "source": [
        "a=input(\"Nama :\")\n"
      ]
    },
    {
      "cell_type": "code",
      "execution_count": null,
      "metadata": {
        "id": "mz-NoGtWVVkO"
      },
      "outputs": [],
      "source": [
        "b=input(\"Huruf awal nama saya adalah : \")\n",
        "print(\"Huruf awal nama saya adalah : \", b[0])"
      ]
    },
    {
      "cell_type": "code",
      "execution_count": null,
      "metadata": {
        "id": "6O24FmyOGYu2"
      },
      "outputs": [],
      "source": [
        "Umur = input('Umur saya adalah: ')\n",
        "print ('jadi umur saya',Umur)"
      ]
    },
    {
      "cell_type": "code",
      "execution_count": null,
      "metadata": {
        "id": "45DDPFfAqFsg"
      },
      "outputs": [],
      "source": [
        "a=5\n",
        "print(a)"
      ]
    },
    {
      "cell_type": "code",
      "execution_count": null,
      "metadata": {
        "id": "g8ZARyj3rTKX"
      },
      "outputs": [],
      "source": [
        "b=10\n",
        "print(b)"
      ]
    },
    {
      "cell_type": "code",
      "execution_count": null,
      "metadata": {
        "id": "6hgfrmfg-CrZ"
      },
      "outputs": [],
      "source": [
        "a, b, c=4,5,6\n",
        "print(b)\n",
        "print(c)\n",
        "print(a)"
      ]
    },
    {
      "cell_type": "code",
      "execution_count": null,
      "metadata": {
        "id": "TchCHOBF-YAQ"
      },
      "outputs": [],
      "source": [
        "a=input(\"Berat Badan (kg): \")"
      ]
    },
    {
      "cell_type": "code",
      "execution_count": null,
      "metadata": {
        "id": "0KTH1T9z-5Ox"
      },
      "outputs": [],
      "source": [
        "print(a)"
      ]
    },
    {
      "cell_type": "code",
      "execution_count": null,
      "metadata": {
        "id": "rj2SQo1x_B6-"
      },
      "outputs": [],
      "source": [
        "#Buat program menghitung luas persegi\n",
        "\n",
        "panjang=int(input(\"panjang (cm): \"))\n",
        "lebar=int(input(\"lebar (cm): \"))\n",
        "a=panjang*lebar\n",
        "print(\"luas dari persegit tersebut\", a)"
      ]
    },
    {
      "cell_type": "code",
      "execution_count": null,
      "metadata": {
        "id": "n3HOdeblCb0b"
      },
      "outputs": [],
      "source": [
        "a=input(\"nama :\")"
      ]
    },
    {
      "cell_type": "code",
      "execution_count": null,
      "metadata": {
        "id": "uBkvhYP9C_RW"
      },
      "outputs": [],
      "source": [
        "b=input(\"Huruf awal nama saya adalah :\")\n",
        "print(\"Huruf awal nama saya adalah\", b[0])"
      ]
    },
    {
      "cell_type": "code",
      "execution_count": null,
      "metadata": {
        "id": "kISe41NpBPPH"
      },
      "outputs": [],
      "source": [
        "a=input(\"Tinggi badan (cm): \")\n",
        "print(a)"
      ]
    },
    {
      "cell_type": "code",
      "execution_count": null,
      "metadata": {
        "id": "w7SzxG8I0JKR"
      },
      "outputs": [],
      "source": [
        "panjang= int(input(\"Panjang Rumah Gua (m):\" ))\n",
        "lebar= int(input(\"Lebar Rumah Gua (m):\" ))\n",
        "a=panjang*lebar\n",
        "print(a) "
      ]
    },
    {
      "cell_type": "code",
      "execution_count": null,
      "metadata": {
        "id": "-4f42Q8j1_-k",
        "outputId": "68f13e94-0690-4596-a623-11ff94fb8f1c",
        "colab": {
          "base_uri": "https://localhost:8080/"
        }
      },
      "outputs": [
        {
          "output_type": "stream",
          "name": "stdout",
          "text": [
            "Nomor Plat Kendaraan: p 3409 a\n",
            "Huruf  Plat Kendaraan adalah p  \n"
          ]
        }
      ],
      "source": [
        "a=input(\"Nomor Plat Kendaraan: \")\n",
        "print(\"Huruf  Plat Kendaraan adalah\", a[0], a[1])"
      ]
    }
  ],
  "metadata": {
    "colab": {
      "collapsed_sections": [],
      "provenance": [],
      "include_colab_link": true
    },
    "kernelspec": {
      "display_name": "Python 3",
      "name": "python3"
    },
    "language_info": {
      "name": "python"
    }
  },
  "nbformat": 4,
  "nbformat_minor": 0
}